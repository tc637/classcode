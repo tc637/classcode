{
 "metadata": {
  "name": "",
  "signature": "sha256:9e3d9b9e161d2710fc878e85167a54e4885f28cebf813780dfcb04509c1c9db6"
 },
 "nbformat": 3,
 "nbformat_minor": 0,
 "worksheets": [
  {
   "cells": [
    {
     "cell_type": "heading",
     "level": 2,
     "metadata": {},
     "source": [
      "Problems for due beginning of class Friday, Sept. 19"
     ]
    },
    {
     "cell_type": "raw",
     "metadata": {},
     "source": [
      "Two analytic problems -- hand these in on paper at the beginning of class"
     ]
    },
    {
     "cell_type": "heading",
     "level": 2,
     "metadata": {},
     "source": [
      "1) Approximate Wien's law: "
     ]
    },
    {
     "cell_type": "markdown",
     "metadata": {},
     "source": [
      " As the following python plot shows if you simplify the Planck function by removing the -1 in the denominator, the location of the peak wavenumber doesn't really change too much.   The advantage of the approximate version is that it is easier to differentiate and solve for the maximum wavenumber.   Take the derivitive of approx_plancwavenum and solve for the wavenumber where the derivitive is zero.  Show that it agrees roughly with the value for the exact equation and the wikipedia result."
     ]
    },
    {
     "cell_type": "code",
     "collapsed": false,
     "input": [
      "import numpy as np\n",
      "from matplotlib import pyplot as plt"
     ],
     "language": "python",
     "metadata": {},
     "outputs": [],
     "prompt_number": ""
    },
    {
     "cell_type": "code",
     "collapsed": false,
     "input": [
      "%matplotlib inline"
     ],
     "language": "python",
     "metadata": {},
     "outputs": [],
     "prompt_number": ""
    },
    {
     "cell_type": "code",
     "collapsed": false,
     "input": [
      "def planckwavenum(waven,Temp):\n",
      "    \"\"\"\n",
      "      input: wavenumber (m^{-1}), Temp (K)\n",
      "      output: planck function in W/m^2/m^{-1}/sr\n",
      "    \"\"\"\n",
      "    h=6.63e-34\n",
      "    c=3.e8\n",
      "    c1=2.*h*c**2.\n",
      "    kb=1.38e-23\n",
      "    c2=h*c/(kb*Temp)\n",
      "    Bwaven=c1*waven**3./(np.exp(c2*waven) -1)\n",
      "    return Bwaven\n"
     ],
     "language": "python",
     "metadata": {},
     "outputs": [],
     "prompt_number": ""
    },
    {
     "cell_type": "code",
     "collapsed": false,
     "input": [
      "def approx_planckwavenum(waven,Temp):\n",
      "    \"\"\"\n",
      "      input: wavenumber (m^{-1}), Temp (K)\n",
      "      output: planck function in W/m^2/m^{-1}/sr\n",
      "    \"\"\"\n",
      "    h=6.63e-34\n",
      "    c=3.e8\n",
      "    c1=2.*h*c**2.\n",
      "    kb=1.38e-23\n",
      "    c2=h*c/(kb*Temp)\n",
      "    Bwaven=c1*waven**3./(np.exp(c2*waven))\n",
      "    return Bwaven\n"
     ],
     "language": "python",
     "metadata": {},
     "outputs": [],
     "prompt_number": ""
    },
    {
     "cell_type": "code",
     "collapsed": false,
     "input": [
      "wavenum_icm=np.arange(25,2500,20) #in inverse cm\n",
      "wavenum_im=wavenum_icm*100.  #in inverse m\n",
      "the_temp=300.  #K\n",
      "flux=planckwavenum(wavenum_im,the_temp)*np.pi*100 #convert to W/m^2/cm^-1 \n",
      "approx=approx_planckwavenum(wavenum_im,the_temp)*np.pi*100\n",
      "fig=plt.figure(1,figsize=(9,9))\n",
      "fig.clf()\n",
      "ax1=fig.add_subplot(111)\n",
      "ax1.plot(wavenum_icm,flux,color='r',label='exact')\n",
      "ax1.plot(wavenum_icm,approx,color='k',label='approx') \n",
      "ax1.legend()"
     ],
     "language": "python",
     "metadata": {},
     "outputs": [],
     "prompt_number": ""
    },
    {
     "cell_type": "heading",
     "level": 2,
     "metadata": {},
     "source": [
      "2) Show formally using change of variables that if you start with "
     ]
    },
    {
     "cell_type": "markdown",
     "metadata": {},
     "source": [
      "   $$B_\\lambda =\\frac{2 h c^2 \\lambda^{-5}}{\\exp \\left ( \\frac{hc}{k_b  \\lambda T} \\right ) - 1}$$"
     ]
    },
    {
     "cell_type": "markdown",
     "metadata": {},
     "source": [
      "and make the change $n=1/\\lambda$ you get the function used in planckwavenum()"
     ]
    },
    {
     "cell_type": "code",
     "collapsed": false,
     "input": [],
     "language": "python",
     "metadata": {},
     "outputs": []
    }
   ],
   "metadata": {}
  }
 ]
}